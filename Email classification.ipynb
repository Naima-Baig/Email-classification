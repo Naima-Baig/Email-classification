{
 "cells": [
  {
   "cell_type": "code",
   "execution_count": 1,
   "id": "cc5fa382",
   "metadata": {},
   "outputs": [
    {
     "name": "stdout",
     "output_type": "stream",
     "text": [
      "--- Logistic Regression ---\n",
      "Accuracy: 0.9719806763285024\n",
      "Precision: 0.9435215946843853\n",
      "Recall: 0.9594594594594594\n",
      "F1 Score: 0.9514237855946398\n",
      "\n",
      "--- Decision Tree ---\n",
      "Accuracy: 0.9246376811594202\n",
      "Precision: 0.8657718120805369\n",
      "Recall: 0.8716216216216216\n",
      "F1 Score: 0.8686868686868686\n",
      "\n",
      "--- Support Vector Machine ---\n",
      "Accuracy: 0.8173913043478261\n",
      "Precision: 0.9083969465648855\n",
      "Recall: 0.40202702702702703\n",
      "F1 Score: 0.5573770491803279\n",
      "\n",
      "--- Random Forest ---\n",
      "Accuracy: 0.9777777777777777\n",
      "Precision: 0.9595959595959596\n",
      "Recall: 0.9628378378378378\n",
      "F1 Score: 0.9612141652613827\n",
      "\n",
      "--- Gradient Boosting ---\n",
      "Accuracy: 0.9719806763285024\n",
      "Precision: 0.9435215946843853\n",
      "Recall: 0.9594594594594594\n",
      "F1 Score: 0.9514237855946398\n",
      "\n"
     ]
    }
   ],
   "source": [
    "#Classification\n",
    "\n",
    "# Import necessary libraries\n",
    "import pandas as pd\n",
    "from sklearn.model_selection import train_test_split\n",
    "from sklearn.feature_extraction.text import CountVectorizer\n",
    "from sklearn.linear_model import LogisticRegression\n",
    "from sklearn.tree import DecisionTreeClassifier\n",
    "from sklearn.svm import SVC\n",
    "from sklearn.ensemble import RandomForestClassifier, GradientBoostingClassifier\n",
    "from sklearn.metrics import accuracy_score, precision_score, recall_score, f1_score\n",
    "\n",
    "# Load the dataset\n",
    "data = pd.read_csv('emails.csv') \n",
    "\n",
    "# Data Preparation\n",
    "# Remove non-essential columns, only keeping word frequency columns and target label\n",
    "X = data.drop(columns=['Email No.', 'Prediction'])  # Feature matrix\n",
    "y = data['Prediction']  # Target variable\n",
    "\n",
    "# Split the data into training and test sets\n",
    "X_train, X_test, y_train, y_test = train_test_split(X, y, test_size=0.2, random_state=42)\n",
    "\n",
    "# Initialize models\n",
    "models = {\n",
    "    'Logistic Regression': LogisticRegression(max_iter=1000),\n",
    "    'Decision Tree': DecisionTreeClassifier(),\n",
    "    'Support Vector Machine': SVC(),\n",
    "    'Random Forest': RandomForestClassifier(),\n",
    "    'Gradient Boosting': GradientBoostingClassifier()\n",
    "}\n",
    "\n",
    "# Train and evaluate each model\n",
    "for model_name, model in models.items():\n",
    "    # Train the model\n",
    "    model.fit(X_train, y_train)\n",
    "    # Make predictions\n",
    "    y_pred = model.predict(X_test)\n",
    "    # Evaluate the model\n",
    "    accuracy = accuracy_score(y_test, y_pred)\n",
    "    precision = precision_score(y_test, y_pred)\n",
    "    recall = recall_score(y_test, y_pred)\n",
    "    f1 = f1_score(y_test, y_pred)\n",
    "    # Print evaluation results\n",
    "    print(f\"--- {model_name} ---\")\n",
    "    print(f\"Accuracy: {accuracy}\")\n",
    "    print(f\"Precision: {precision}\")\n",
    "    print(f\"Recall: {recall}\")\n",
    "    print(f\"F1 Score: {f1}\\n\")\n"
   ]
  },
  {
   "cell_type": "code",
   "execution_count": null,
   "id": "203e40fc",
   "metadata": {},
   "outputs": [],
   "source": []
  }
 ],
 "metadata": {
  "kernelspec": {
   "display_name": "Python 3 (ipykernel)",
   "language": "python",
   "name": "python3"
  },
  "language_info": {
   "codemirror_mode": {
    "name": "ipython",
    "version": 3
   },
   "file_extension": ".py",
   "mimetype": "text/x-python",
   "name": "python",
   "nbconvert_exporter": "python",
   "pygments_lexer": "ipython3",
   "version": "3.9.13"
  }
 },
 "nbformat": 4,
 "nbformat_minor": 5
}
